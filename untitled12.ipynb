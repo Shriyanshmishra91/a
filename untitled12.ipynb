{
  "nbformat": 4,
  "nbformat_minor": 0,
  "metadata": {
    "colab": {
      "provenance": [],
      "authorship_tag": "ABX9TyOhbK3W2saxjYB2sRjCcYAX",
      "include_colab_link": true
    },
    "kernelspec": {
      "name": "python3",
      "display_name": "Python 3"
    },
    "language_info": {
      "name": "python"
    }
  },
  "cells": [
    {
      "cell_type": "markdown",
      "metadata": {
        "id": "view-in-github",
        "colab_type": "text"
      },
      "source": [
        "<a href=\"https://colab.research.google.com/github/Shriyanshmishra91/a/blob/main/untitled12.ipynb\" target=\"_parent\"><img src=\"https://colab.research.google.com/assets/colab-badge.svg\" alt=\"Open In Colab\"/></a>"
      ]
    },
    {
      "cell_type": "code",
      "source": [],
      "metadata": {
        "id": "2zlMiYchJ4W0"
      },
      "execution_count": null,
      "outputs": []
    },
    {
      "cell_type": "markdown",
      "source": [
        "Ques1 what is statics and why important ?\n",
        "\n",
        "\n",
        "ans satics is the study of collections anlaysis of data\n",
        "\n",
        "it is very important because  it helps us understand data amake informed decisions based on data .\n",
        "\n",
        "\n",
        "Qus2  what are two main types of statics\n",
        "\n",
        "ans  the two main tpes of sytatics are.\n",
        " .\n",
        " descprive statics used to summarize and decribe feature  of adataset .\n",
        " infertial statics : use to make conculision  or predicted  pouplatiuon ,\n",
        "\n",
        "\n",
        " ques3  what are desprctive statistics ?\n",
        "\n",
        " ans descprite staticstics are used to summarize and describde basic features of dataset suchas measure of central tendcy mean meadian mode and measure .\n",
        "\n",
        "\n",
        " Qus4 whatis iferential statistics ?\n",
        "\n",
        " ans inferntial statistics is used to make conculision or predicted about population base on sample 0of data it involes usingstaical  methods to their infer propties of  the population . from  of the sample,\n",
        "\n",
        "\n",
        "\n",
        " QUES5 What is sampling in statistics ?\n",
        "\n",
        " ans sanpling is the perocesss of slection process  of slecting a subset of data a from alonger  population .\n",
        "\n",
        "\n",
        " Ques 6what are differnt typees sampling methods ?\n",
        "\n",
        "  Random sampling  every members of the poplations has an equal chance of being selected .\n",
        "\n",
        "  nom random sampling . slection isbased on factors such as convience or quta sampling .\n",
        "\n",
        "\n",
        "  Ques7  what is differnt betwwen rando,m and non sampling ?\n",
        "\n",
        "\n",
        "  ans random sampling ensure thatv every members of populations  has an equal  chance of being  slected .while non random sampling does not .\n",
        "\n",
        "  Ques8\n",
        "  Define and give example of qulatiivatives and quantative data .\n",
        "\n",
        "  ans Qualtiative data non numerical datathat describe charchries or ayttriburtes such as collor or gender .\n",
        "\n",
        "  Ques9\n",
        "  where are differnt types of data in statics ?\n",
        "\n",
        "  ans data can be classifed into differnt types inculding 🇰\n",
        "\n",
        "nominaldata s; categorical datawith no imhernet oder.\n",
        "\n",
        "2 oridnal data . categorical data wih a natural oder .\n",
        "\n",
        "invetal data numerical data wih equal intverals betwwen concuestive valves .\n",
        " ratio data ,numrical data with a true zero oder .\n",
        "\n",
        " Ques10 explain nominal data oderinal; data tnterval and ratio level mrasurment .\n",
        "\n",
        " nominal data is catehgriozed without any inhernt oder.\n",
        " oderinal level ; data is nu,mrical with equal intvral between consective valves but ther is no true zero point .\n",
        "\n",
        " ratio level data  is numeical with true zero points equal intveral betwwen.\n",
        "\n",
        " Ques11 whatis measure of  ental tedancy ?\n",
        "\n",
        " the measure of central tedency issatistical measurethat describe the middle ortypical valve datset describe middleortyipcally or mode.\n",
        "\n",
        " Qus12 define medain mode mean.?\n",
        "\n",
        " ans mean the average valve of data set .\n",
        "\n",
        " meadian the middle valve of datset when is stortedd oder.\n",
        "\n",
        " modethe most freqancy occuring valve in data set .\n",
        "\n",
        " Ques13 what is ignificance oe the measure of cental tendcy ?\n",
        "\n",
        " the meaure of central tendency provides a summary  and helps tonbehavaior  of the  data.\n",
        "\n",
        " QUes14   what is varince and how standard devation and why isitimportant ?\n",
        "\n",
        "\n",
        " ans varince is measiure of the sprad or dispersion of datsetit is caculatedby taking the average the aqureddiffernces  between each data piont and the the mean.\n",
        "\n",
        " Ques15 What is standard devation and whyis important ?\n",
        "\n",
        " ans Standard devativation  is qare root of the variunce itis important it is imoprtant because it provides a maesure of the sprad or dispersion of data and used in manysatistical. calcution\n",
        "\n",
        " Ques16 define explain term rangr in statisrtics .\n",
        "\n",
        " Ans range is differnce betwwen v the laregest and samleest valves in data set it provides a simple meraure of sprad or dispersion of the data.\n",
        "\n",
        " Ques17\n",
        "  what is differnce varibnce between varinceand standard devativation.\n",
        "\n",
        "  variance is the average of squred differnces betwwen each of data piontv and data  piont and the mean whilesqire standard devartiuon is the squre root oof varince .\n",
        "\n",
        "\n",
        "  Ques18  whatis skweens in data set ?\n",
        "\n",
        "\n",
        "  ans skweerns is average is measure symmersty  a data set . apiositvely swkeed data set has longerr tail on right while  negavtliy  skwed dataset ha aloner  tail on left .\n",
        "\n",
        "  Ques 19  what does it mean  if a data sewt is postively or negtive skweed?\n",
        "\n",
        "  A postively  skeend data set indactes thart there are more  extrme  valves on data setv whilea negativly  skweed dataset indicates that  there aremore extrmevalves on tje left.\n",
        "\n",
        "\n",
        "\n",
        "  Ques20  define and explain kurtosis .\n",
        "\n",
        "  ANS kurtosis is measure of the taildeness or peakdness of data set a dataset with  high kurtiost vhas more pronounced  peak heavier tails .\n",
        "\n",
        "  Qus21  what ispurupose  of convarince?\n",
        "   \n",
        "   Ans  convarince  measure hoe much two varible change teogether itindicates the direction  of the linear realstionship between two variblres a postive convarince means betwwen  as one varible  increases thew other .\n",
        "\n",
        "   Ques22  what  does correlation measure in staticsa ?\n",
        "\n",
        "\n",
        "   corrleation  measure sytegenht and directionm of in linear eqations betweeen two varibles on scarrpolt the valve thr colleration measure  a correlations .\n",
        "\n",
        "    ques23\n",
        "\n",
        "     what is differnce between convrince and corealtion??\n",
        "\n",
        "\n",
        "     ans  convarince measure  the dirction of in linear equations  ralshionship  measure  both the strgnth  and direction.\n",
        "\n",
        "     Ques24\n",
        "\n",
        "      what are some eal world applications  statistics?\n",
        "\n",
        "      Ans  statics are applided in healthcare finance marketing  in sport enviormentalk science and more for data anlayis and making.\n",
        "\n",
        "\n"
      ],
      "metadata": {
        "id": "TISuBFXb1Vk6"
      }
    },
    {
      "cell_type": "markdown",
      "source": [],
      "metadata": {
        "id": "hPiSCB_HAkfi"
      }
    },
    {
      "cell_type": "code",
      "source": [
        "#Ques1 how do you clacute the mean midean and  mode of a data set?\n"
      ],
      "metadata": {
        "id": "iRTDztVw1wKP"
      },
      "execution_count": null,
      "outputs": []
    },
    {
      "cell_type": "code",
      "source": [
        "#mean: is sum ofvalves \\total numbers values\n",
        "# median: middle valve  when data is storetdin oder\n",
        "#mode mode is most frequently occuring valve.\n"
      ],
      "metadata": {
        "id": "GDXWX3OyKZKA"
      },
      "execution_count": null,
      "outputs": []
    },
    {
      "cell_type": "code",
      "source": [
        "#Ques2 write apython programto compute the variannce vand standard devitation of data set?"
      ],
      "metadata": {
        "id": "Uwku6bK1K_y5"
      },
      "execution_count": null,
      "outputs": []
    },
    {
      "source": [
        "import numpy as np\n",
        "data = [1,2,3,4,5]\n",
        "variance = np.var(data)\n",
        "std_dev = np.std(data)\n",
        "print(\"variance:\",variance)\n",
        "print(\"standard deviation:\",std_dev)"
      ],
      "cell_type": "code",
      "metadata": {
        "colab": {
          "base_uri": "https://localhost:8080/"
        },
        "id": "h7rQvtqBMLPB",
        "outputId": "fc4e9b67-6ace-4072-a91c-7d6a04d34848"
      },
      "execution_count": null,
      "outputs": [
        {
          "output_type": "stream",
          "name": "stdout",
          "text": [
            "variance: 2.0\n",
            "standard deviation: 1.4142135623730951\n"
          ]
        }
      ]
    },
    {
      "cell_type": "code",
      "source": [
        "#ques create a dataset and classify itinto  nominal ,ordinal  interval, and ratio types?"
      ],
      "metadata": {
        "id": "l0yC9Yv9Mf_p"
      },
      "execution_count": null,
      "outputs": []
    },
    {
      "cell_type": "code",
      "source": [],
      "metadata": {
        "id": "eCQceorfNSFh"
      },
      "execution_count": null,
      "outputs": []
    },
    {
      "source": [
        "import pandas as pd\n",
        "import numpy as np\n",
        "\n",
        "# Create a dataset\n",
        "data = {\n",
        "    'ID': [1, 2, 3, 4, 5],\n",
        "    'Color': ['Red', 'Blue', 'Green', 'Red', 'Blue'], # Nominal data\n",
        "    'Age': [25, 30, 22, 35, 28], # Numerical data\n",
        "    'City': ['New York', 'London', 'Paris', 'New York', 'Tokyo'] # Nominal data\n",
        "}\n",
        "\n",
        "df = pd.DataFrame(data)\n",
        "\n",
        "# --- Classify Nominal Data ---\n",
        "# You can visually identify nominal columns.\n",
        "# In this dataset, 'Color' and 'City' are nominal.\n",
        "print(\"Dataset:\")\n",
        "print(df)\n",
        "print(\"\\nNominal Columns:\")\n",
        "print(df[['Color', 'City']].head()) # Displaying the first few rows of nominal columns\n",
        "\n",
        "# --- Calculate Standard Deviation ---\n",
        "# Standard deviation can only be calculated for numerical data.\n",
        "# In this dataset, 'Age' is numerical.\n",
        "age_std_dev = np.std(df['Age'])\n",
        "\n",
        "print(\"\\nStandard Deviation of Age:\")\n",
        "print(age_std_dev)"
      ],
      "cell_type": "code",
      "metadata": {
        "colab": {
          "base_uri": "https://localhost:8080/"
        },
        "id": "IwbanKF-OFhR",
        "outputId": "6cc358b8-bcce-401a-c09f-4adb1e28a1b4"
      },
      "execution_count": null,
      "outputs": [
        {
          "output_type": "stream",
          "name": "stdout",
          "text": [
            "Dataset:\n",
            "   ID  Color  Age      City\n",
            "0   1    Red   25  New York\n",
            "1   2   Blue   30    London\n",
            "2   3  Green   22     Paris\n",
            "3   4    Red   35  New York\n",
            "4   5   Blue   28     Tokyo\n",
            "\n",
            "Nominal Columns:\n",
            "   Color      City\n",
            "0    Red  New York\n",
            "1   Blue    London\n",
            "2  Green     Paris\n",
            "3    Red  New York\n",
            "4   Blue     Tokyo\n",
            "\n",
            "Standard Deviation of Age:\n",
            "4.427188724235731\n"
          ]
        }
      ]
    },
    {
      "cell_type": "code",
      "source": [
        "#ques4 impledment sampling techinques like random sampling and strtifed  sampling?\n"
      ],
      "metadata": {
        "id": "1lmOkJcIOLmK"
      },
      "execution_count": null,
      "outputs": []
    },
    {
      "cell_type": "code",
      "source": [
        "import pandas as pd\n",
        "import pandas as pd\n",
        "\n",
        "#random sampling\n",
        "data= pd.DataFrame({'category':\n",
        "['A','B','A','B','A','B','A','B'],\n",
        "'value':[1,2,3,4,5,6,7,8]})\n",
        "random_sample=data.sample(n=4,random_state=42)\n",
        "print(random_sample)\n",
        "\n",
        "#stratified sampling\n",
        "stratified_sample=data.groupby('category').apply(lambda x:x.sample(n=2,random_state=42))\n",
        "print(stratified_sample)\n",
        "random_sample=data.sample(n=4,random_state=42)\n",
        "print(random_sample)\n",
        "\n",
        "#stratified sampling\n",
        "stratified_sample=data.groupby('category').apply(lambda x:x.sample(n=2,random_state=42))\n",
        "print(stratified_sample)"
      ],
      "metadata": {
        "colab": {
          "base_uri": "https://localhost:8080/"
        },
        "id": "Ja36a4BNOnm6",
        "outputId": "fd661d0a-d31c-4bc8-a0c4-8ef0922bbbdd"
      },
      "execution_count": null,
      "outputs": [
        {
          "output_type": "stream",
          "name": "stdout",
          "text": [
            "  category  value\n",
            "1        B      2\n",
            "5        B      6\n",
            "0        A      1\n",
            "7        B      8\n",
            "           category  value\n",
            "category                  \n",
            "A        2        A      3\n",
            "         6        A      7\n",
            "B        3        B      4\n",
            "         7        B      8\n",
            "  category  value\n",
            "1        B      2\n",
            "5        B      6\n",
            "0        A      1\n",
            "7        B      8\n",
            "           category  value\n",
            "category                  \n",
            "A        2        A      3\n",
            "         6        A      7\n",
            "B        3        B      4\n",
            "         7        B      8\n"
          ]
        },
        {
          "output_type": "stream",
          "name": "stderr",
          "text": [
            "<ipython-input-15-bc8bad92e836>:12: DeprecationWarning: DataFrameGroupBy.apply operated on the grouping columns. This behavior is deprecated, and in a future version of pandas the grouping columns will be excluded from the operation. Either pass `include_groups=False` to exclude the groupings or explicitly select the grouping columns after groupby to silence this warning.\n",
            "  stratified_sample=data.groupby('category').apply(lambda x:x.sample(n=2,random_state=42))\n",
            "<ipython-input-15-bc8bad92e836>:18: DeprecationWarning: DataFrameGroupBy.apply operated on the grouping columns. This behavior is deprecated, and in a future version of pandas the grouping columns will be excluded from the operation. Either pass `include_groups=False` to exclude the groupings or explicitly select the grouping columns after groupby to silence this warning.\n",
            "  stratified_sample=data.groupby('category').apply(lambda x:x.sample(n=2,random_state=42))\n"
          ]
        }
      ]
    },
    {
      "cell_type": "code",
      "source": [
        "#ques5 write a function to calcute the range of a dateset?\n"
      ],
      "metadata": {
        "id": "bgmhOHOtP_Xa"
      },
      "execution_count": null,
      "outputs": []
    },
    {
      "cell_type": "code",
      "source": [
        "def calculate_range(data):\n",
        "    return max(data)-min(data)\n",
        "    data=[1,2,3,4,5]\n",
        "    range_value=calculate_range(data)\n",
        "    print(\"range:\",range_value)"
      ],
      "metadata": {
        "id": "lmpaa3WSQlUq"
      },
      "execution_count": null,
      "outputs": []
    },
    {
      "cell_type": "code",
      "source": [
        "#ques6 calute skeweness and kurtostsius of a data set using ptyon labries.?\n"
      ],
      "metadata": {
        "id": "Isbg3ZBqQ-ND"
      },
      "execution_count": null,
      "outputs": []
    },
    {
      "source": [
        "import scipy .stats as stats\n",
        "data=[1,2,3,4,5]\n",
        "skewness= stats.skew (data, bias=False)\n",
        "kurtosis = stats.kurtosis(data, bias=False) # Calculate kurtosis\n",
        "print(\"skewness:\",skewness)\n",
        "print(\"kurtosis:\",kurtosis) # Corrected variable name"
      ],
      "cell_type": "code",
      "metadata": {
        "colab": {
          "base_uri": "https://localhost:8080/"
        },
        "id": "hBdEjqXUdZQg",
        "outputId": "9a489dac-aa4f-420f-f963-b82bb6a93529"
      },
      "execution_count": null,
      "outputs": [
        {
          "output_type": "stream",
          "name": "stdout",
          "text": [
            "skewness: 0.0\n",
            "kurtosis: -1.2000000000000004\n"
          ]
        }
      ]
    },
    {
      "cell_type": "code",
      "source": [
        "#Ques7 gernate a datasetand demonstrative postive and negative?\n"
      ],
      "metadata": {
        "id": "0tzldiR8SUYq"
      },
      "execution_count": null,
      "outputs": []
    },
    {
      "cell_type": "code",
      "source": [
        "import numpy as np\n",
        "import matplotlib.pyplot as plt\n",
        "\n",
        "# Generate a dataset\n",
        "data = np.random.normal(0, 1, 1000)"
      ],
      "metadata": {
        "id": "GGCCu3LZe9rC"
      },
      "execution_count": null,
      "outputs": []
    },
    {
      "cell_type": "code",
      "source": [
        "#ques9 write apyton scprit to clcaute covariince beween two dataset."
      ],
      "metadata": {
        "id": "YKJae_CQgNZX"
      },
      "execution_count": null,
      "outputs": []
    },
    {
      "cell_type": "code",
      "source": [
        " import numpy as np\n",
        "\n",
        " data =[1,2,3,4,5]\n",
        " data2=[6,7,8,9,10]\n",
        " covariance=np.cov(data,data2)\n",
        " print(\"covariance:\",covariance)\n",
        "\n"
      ],
      "metadata": {
        "colab": {
          "base_uri": "https://localhost:8080/"
        },
        "id": "-bc8tPFShIpP",
        "outputId": "bae97535-30a3-4040-8122-44c9a387b15a"
      },
      "execution_count": null,
      "outputs": [
        {
          "output_type": "stream",
          "name": "stdout",
          "text": [
            "covariance: [[2.5 2.5]\n",
            " [2.5 2.5]]\n"
          ]
        }
      ]
    },
    {
      "cell_type": "code",
      "source": [
        "#ques 10   Write  a python script to calculate thec correlation coefficent between two data set .?\n"
      ],
      "metadata": {
        "id": "DJVOBi2KhHeH"
      },
      "execution_count": null,
      "outputs": []
    },
    {
      "cell_type": "code",
      "source": [
        "import numpy as np\n",
        "data=[1,2,3,4,5]\n",
        "data2=[6,7,8,9,10]\n",
        "correlation_coefficient=np.corrcoef(data,data2)\n",
        "print(\"correlation coefficient:\",correlation_coefficient)"
      ],
      "metadata": {
        "colab": {
          "base_uri": "https://localhost:8080/"
        },
        "id": "UnDEU5wAiCe_",
        "outputId": "02d071ff-1833-4028-b9bf-5c1d84ee768e"
      },
      "execution_count": null,
      "outputs": [
        {
          "output_type": "stream",
          "name": "stdout",
          "text": [
            "correlation coefficient: [[1. 1.]\n",
            " [1. 1.]]\n"
          ]
        }
      ]
    },
    {
      "cell_type": "code",
      "source": [
        "# ques11 create  a scater polt to visualize the realtionship  between two varibles?\n"
      ],
      "metadata": {
        "id": "RQ2nSmYPiAjo"
      },
      "execution_count": null,
      "outputs": []
    },
    {
      "cell_type": "code",
      "source": [
        "import matplotlib.pyplot as plt\n",
        "data  =[1,2,3,4,5]\n",
        "data2=[6,7,8,9,10]\n",
        "plt.scatter(data,data2)\n",
        "plt.show()\n",
        "\n"
      ],
      "metadata": {
        "colab": {
          "base_uri": "https://localhost:8080/",
          "height": 430
        },
        "id": "OnpeCq2aiqau",
        "outputId": "be52ec05-dd19-4c58-a5b7-640a25b950f4"
      },
      "execution_count": null,
      "outputs": [
        {
          "output_type": "display_data",
          "data": {
            "text/plain": [
              "<Figure size 640x480 with 1 Axes>"
            ],
            "image/png": "[encoded data removed]"
          },
          "metadata": {}
        }
      ]
    },
    {
      "cell_type": "code",
      "source": [
        "#ques12implement and copmpare simple random sampling and  systematic samping.?"
      ],
      "metadata": {
        "id": "dKKV6iOejeFP"
      },
      "execution_count": null,
      "outputs": []
    },
    {
      "source": [
        "\n",
        "import pandas as pd\n",
        "import numpy as np\n",
        "#simple  random  sampling\n",
        "Data  =pd.DataFrame({'valve':[1,2,3,4,5,6,7,8,9,10]}) # Corrected the last value\n",
        "random_sample=Data.sample(n=5) # Use the DataFrame 'Data' for sampling\n",
        "print(random_sample)"
      ],
      "cell_type": "code",
      "metadata": {
        "colab": {
          "base_uri": "https://localhost:8080/"
        },
        "id": "ou5SB0o_maWH",
        "outputId": "928a9c09-09fd-4d05-b317-41bf67436d70"
      },
      "execution_count": null,
      "outputs": [
        {
          "output_type": "stream",
          "name": "stdout",
          "text": [
            "   valve\n",
            "6      7\n",
            "5      6\n",
            "3      4\n",
            "4      5\n",
            "9     10\n"
          ]
        }
      ]
    },
    {
      "cell_type": "code",
      "source": [
        "#QUes 13 caculate themean mode  medain ofgrouped of data ?"
      ],
      "metadata": {
        "id": "SBcJ__gGmmtf"
      },
      "execution_count": null,
      "outputs": []
    },
    {
      "cell_type": "code",
      "source": [],
      "metadata": {
        "id": "ZGKrKQKWm1VO"
      },
      "execution_count": null,
      "outputs": []
    },
    {
      "source": [
        "# Ques 13 calculate the mean mode median of grouped data ?\n",
        "\n",
        "# Calculating Mean, Median, and Mode for Grouped Data\n",
        "\n",
        "# For grouped data, we typically work with frequency distributions.\n",
        "# The exact values are not known, so we use approximations.\n",
        "\n",
        "# --- Mean for Grouped Data ---\n",
        "# The mean for grouped data is approximated using the midpoint of each class interval\n",
        "# and its corresponding frequency.\n",
        "# Formula: Mean ≈ Σ(midpoint * frequency) / Σ(frequency)\n",
        "\n",
        "# --- Median for Grouped Data ---\n",
        "# The median for grouped data is the value that divides the distribution\n",
        "# into two equal halves. It is located in the cumulative frequency distribution.\n",
        "# Formula for Median: L + [(n/2 - CF) / f] * w\n",
        "# L = lower boundary of the median class\n",
        "# n = total frequency\n",
        "# CF = cumulative frequency of the class preceding the median class\n",
        "# f = frequency of the median class\n",
        "# w = width of the median class\n",
        "\n",
        "# --- Mode for Grouped Data ---\n",
        "# The mode for grouped data is the value with the highest frequency.\n",
        "# It is usually located in the modal class (the class with the highest frequency).\n",
        "# A more precise mode can be estimated using interpolation within the modal class.\n",
        "# Formula for Mode: L + [(f1 - f0) / (2*f1 - f0 - f2)] * w\n",
        "# L = lower boundary of the modal class\n",
        "# f1 = frequency of the modal class\n",
        "# f0 = frequency of the class preceding the modal class\n",
        "# f2 = frequency of the class succeeding the modal class\n",
        "# w = width of the modal class\n",
        "\n",
        "# --- Python Example (Calculating Mean and Finding Median Class) ---\n",
        "# Let's create a simple example of grouped data\n",
        "# Class intervals and their frequencies\n",
        "# Data: Scores in a test\n",
        "# Intervals: 0-10, 10-20, 20-30, 30-40, 40-50\n",
        "# Frequencies: 2, 5, 8, 4, 1\n",
        "\n",
        "import numpy as np\n",
        "import pandas as pd\n",
        "\n",
        "# Define class intervals and frequencies\n",
        "class_intervals = [(0, 10), (10, 20), (20, 30), (30, 40), (40, 50)]\n",
        "frequencies = [2, 5, 8, 4, 1]\n",
        "\n",
        "# Calculate midpoints of each class interval\n",
        "midpoints = [(lower + upper) / 2 for lower, upper in class_intervals]\n",
        "\n",
        "# Calculate the sum of (midpoint * frequency)\n",
        "sum_midpoint_frequency = sum(m * f for m, f in zip(midpoints, frequencies))\n",
        "\n",
        "# Calculate the total frequency\n",
        "total_frequency = sum(frequencies)\n",
        "\n",
        "# Calculate the mean for grouped data\n",
        "mean_grouped = sum_midpoint_frequency / total_frequency\n",
        "\n",
        "print(f\"Class Intervals: {class_intervals}\")\n",
        "print(f\"Frequencies: {frequencies}\")\n",
        "print(f\"Midpoints: {midpoints}\")\n",
        "print(f\"Mean (Grouped Data): {mean_grouped:.2f}\")\n",
        "\n",
        "# --- Finding the Median Class ---\n",
        "# Calculate cumulative frequencies\n",
        "cumulative_frequencies = np.cumsum(frequencies)\n",
        "n_by_2 = total_frequency / 2\n",
        "\n",
        "print(f\"Cumulative Frequencies: {cumulative_frequencies}\")\n",
        "print(f\"n/2: {n_by_2}\")\n",
        "\n",
        "# The median class is the first class where the cumulative frequency is\n",
        "# greater than or equal to n/2.\n",
        "median_class_index = -1\n",
        "for i, cf in enumerate(cumulative_frequencies):\n",
        "    if cf >= n_by_2:\n",
        "        median_class_index = i\n",
        "        break\n",
        "\n",
        "if median_class_index != -1:\n",
        "    median_class_interval = class_intervals[median_class_index]\n",
        "    print(f\"Median Class: {median_class_interval}\")\n",
        "\n",
        "    # To calculate the exact median value, you would apply the formula mentioned above\n",
        "    # using the lower boundary, cumulative frequency before the median class,\n",
        "    # frequency of the median class, and class width of the median class.\n",
        "    # This requires a bit more detailed calculation and might not be necessary for a\n",
        "    # basic understanding of grouped data.\n",
        "\n",
        "else:\n",
        "    print(\"Could not find the median class.\")\n",
        "\n",
        "# --- Finding the Modal Class ---\n",
        "# The modal class is the class with the highest frequency.\n",
        "max_frequency = max(frequencies)\n",
        "modal_class_index = frequencies.index(max_frequency)\n",
        "modal_class_interval = class_intervals[modal_class_index]\n",
        "\n",
        "print(f\"Modal Class: {modal_class_interval}\")\n",
        "\n",
        "# To calculate the exact mode value, you would apply the interpolation formula\n",
        "# mentioned above using the lower boundary of the modal class, frequencies\n",
        "# of the modal class and the classes before and after it, and the class width."
      ],
      "cell_type": "code",
      "metadata": {
        "colab": {
          "base_uri": "https://localhost:8080/"
        },
        "id": "TL6jushInWj-",
        "outputId": "e6e2d91f-8b3f-4ef6-8d1e-808b1ca32ebe"
      },
      "execution_count": null,
      "outputs": [
        {
          "output_type": "stream",
          "name": "stdout",
          "text": [
            "Class Intervals: [(0, 10), (10, 20), (20, 30), (30, 40), (40, 50)]\n",
            "Frequencies: [2, 5, 8, 4, 1]\n",
            "Midpoints: [5.0, 15.0, 25.0, 35.0, 45.0]\n",
            "Mean (Grouped Data): 23.50\n",
            "Cumulative Frequencies: [ 2  7 15 19 20]\n",
            "n/2: 10.0\n",
            "Median Class: (20, 30)\n",
            "Modal Class: (20, 30)\n"
          ]
        }
      ]
    },
    {
      "cell_type": "code",
      "source": [
        "#Ques15  use numpy  in pandas  to summmarise a dataset's descriptive statiistics ?"
      ],
      "metadata": {
        "id": "KQPfipurnap_"
      },
      "execution_count": null,
      "outputs": []
    },
    {
      "cell_type": "code",
      "source": [
        "import pandas as  pd\n",
        "import numpy as dp\n",
        "data =pd.DataFrame({'value':[1,2,3,4,5]})\n",
        "print(data. describe)"
      ],
      "metadata": {
        "colab": {
          "base_uri": "https://localhost:8080/"
        },
        "id": "M_95YIQioOLv",
        "outputId": "510550b6-4123-40af-81c0-5770d81ff112"
      },
      "execution_count": null,
      "outputs": [
        {
          "output_type": "stream",
          "name": "stdout",
          "text": [
            "<bound method NDFrame.describe of    value\n",
            "0      1\n",
            "1      2\n",
            "2      3\n",
            "3      4\n",
            "4      5>\n"
          ]
        }
      ]
    },
    {
      "cell_type": "code",
      "source": [
        "#Ques16  polt a boxpolt to understand the spread and identfiy  outliers .?"
      ],
      "metadata": {
        "id": "zUoNtQxdowWX"
      },
      "execution_count": null,
      "outputs": []
    },
    {
      "cell_type": "code",
      "source": [
        " import matplotlib.pyplot as plt\n",
        " data =[1,2,3,4,5]\n",
        " plt.boxplot(data)\n",
        " plt.show()\n"
      ],
      "metadata": {
        "colab": {
          "base_uri": "https://localhost:8080/",
          "height": 430
        },
        "id": "L4SeGxx5pCkW",
        "outputId": "ea26d150-5e7b-4528-f3c6-0312ec32fa68"
      },
      "execution_count": null,
      "outputs": [
        {
          "output_type": "display_data",
          "data": {
            "text/plain": [
              "<Figure size 640x480 with 1 Axes>"
            ],
            "image/png": "[encoded data removed]"
          },
          "metadata": {}
        }
      ]
    },
    {
      "cell_type": "code",
      "source": [
        "#ques 17  calculate  the  inter quratile range (iqr ) of a data set.?\n",
        "\n"
      ],
      "metadata": {
        "id": "9z5um9E2pWLP"
      },
      "execution_count": null,
      "outputs": []
    },
    {
      "cell_type": "code",
      "source": [
        "import numpy as np\n",
        "data =[1,2,3,4,5]\n",
        "q1=np.percentile(data,25)\n",
        "q3=np.percentile(data,75)\n",
        "iqr=q3-q1\n",
        "print(\"interquartile range:\",iqr)\n"
      ],
      "metadata": {
        "colab": {
          "base_uri": "https://localhost:8080/"
        },
        "id": "tNxAYQvTp0cG",
        "outputId": "3b328158-7a6c-4ab0-9e76-0c77bf7e4615"
      },
      "execution_count": null,
      "outputs": [
        {
          "output_type": "stream",
          "name": "stdout",
          "text": [
            "interquartile range: 2.0\n"
          ]
        }
      ]
    },
    {
      "cell_type": "code",
      "source": [
        "#ques18 implement 2 - sample -test anmd explain its sgnificance.,\n"
      ],
      "metadata": {
        "id": "Kny-RwWBqC7F"
      },
      "execution_count": null,
      "outputs": []
    },
    {
      "cell_type": "code",
      "source": [
        "import numpy as np\n",
        "from scipy.stats import ttest_ind\n",
        "data1=[1,2,3,4,5]\n",
        "data2=[6,7,8,9,10]\n",
        "t_statistic,p_value=ttest_ind(data1,data2)\n",
        "print(\"t-statistic:\",t_statistic)\n",
        "print(\"p-value:\",p_value)"
      ],
      "metadata": {
        "colab": {
          "base_uri": "https://localhost:8080/"
        },
        "id": "hJCqOlx0qVQV",
        "outputId": "a4dba960-2680-43b8-aac3-2cbbe941b0fd"
      },
      "execution_count": null,
      "outputs": [
        {
          "output_type": "stream",
          "name": "stdout",
          "text": [
            "t-statistic: -5.0\n",
            "p-value: 0.001052825793366539\n"
          ]
        }
      ]
    },
    {
      "cell_type": "code",
      "source": [
        "#Ques19 compare two  datasets using their standard deviations.\n",
        "\n"
      ],
      "metadata": {
        "id": "WjrqrpuXqdaW"
      },
      "execution_count": null,
      "outputs": []
    },
    {
      "source": [
        "import numpy as np\n",
        "#simple dataset\n",
        "data = np.array([1,2,3,4,5])\n",
        "data2 =np.array ([2,4,6,8,10]) # Corrected 'aray' to 'array'\n",
        "std_dev =np.std(data)\n",
        "print(\"standard deviation:\",std_dev)"
      ],
      "cell_type": "code",
      "metadata": {
        "colab": {
          "base_uri": "https://localhost:8080/"
        },
        "id": "l5YMHZ9VtdiN",
        "outputId": "4a3cad23-9d6e-4d53-8f7f-01d154a13edb"
      },
      "execution_count": null,
      "outputs": [
        {
          "output_type": "stream",
          "name": "stdout",
          "text": [
            "standard deviation: 1.4142135623730951\n"
          ]
        }
      ]
    },
    {
      "cell_type": "code",
      "source": [
        "#ques20 write a python  program to visualize covarince using heatmap?"
      ],
      "metadata": {
        "id": "KYBeYjjbCI2A"
      },
      "execution_count": null,
      "outputs": []
    },
    {
      "cell_type": "code",
      "source": [
        "  import numpy as np\n",
        "  import seaborn as sns\n",
        "  import matplotlib.pyplot as plt\n",
        "  #sample dataset\n",
        "  np.random.seed(0)\n",
        "  data=np.random.rand(5,5)\n"
      ],
      "metadata": {
        "id": "kPOaPYx8C0oq"
      },
      "execution_count": null,
      "outputs": []
    },
    {
      "cell_type": "code",
      "source": [
        "#ques21 use aseaborn to carte acorrelation matric for dataset.?"
      ],
      "metadata": {
        "id": "UWoj2AvxFrYi"
      },
      "execution_count": null,
      "outputs": []
    },
    {
      "cell_type": "code",
      "source": [
        "import  seaborn as sns\n",
        "import matplotlib.pyplot as plt\n",
        "import pandas as pd\n",
        "import numpy as np\n",
        "#sample dataset\n",
        "np.random.seed(0)\n",
        "data= np.random .rand(100,5)"
      ],
      "metadata": {
        "id": "jWZhi2bGF7_4"
      },
      "execution_count": null,
      "outputs": []
    },
    {
      "cell_type": "code",
      "source": [
        "#ues22 gernate  a data set and implement both varinceand standard devativation computations.?"
      ],
      "metadata": {
        "id": "CF3fSvH4G4TQ"
      },
      "execution_count": null,
      "outputs": []
    },
    {
      "cell_type": "code",
      "source": [
        " import numpy as np\n",
        " #\n",
        " data =np.array([1,2,3,4,5])\n",
        " variance= np.var(data)\n",
        " std_dev=np.std(data)\n",
        " print(\"variance:\",variance)\n",
        " print(\"standard deviation:\",std_dev)"
      ],
      "metadata": {
        "colab": {
          "base_uri": "https://localhost:8080/"
        },
        "id": "MUKJ6aCgHICI",
        "outputId": "0e61da99-3723-4700-b121-15bc92119036"
      },
      "execution_count": null,
      "outputs": [
        {
          "output_type": "stream",
          "name": "stdout",
          "text": [
            "variance: 2.0\n",
            "standard deviation: 1.4142135623730951\n"
          ]
        }
      ]
    },
    {
      "cell_type": "code",
      "source": [
        "#Ques23 visualize seknesss and kurtisios using python labries like a matpolitb or seaborn .\n",
        "\n"
      ],
      "metadata": {
        "id": "VuAu1yhKtsxN"
      },
      "execution_count": null,
      "outputs": []
    },
    {
      "cell_type": "code",
      "source": [
        "import numpy as np\n",
        "import matplotlib.pyplot as plt\n",
        "from scipy import stats\n",
        "\n",
        "#sample dataset\n",
        "data=np.random.normal(0,1,1000)\n",
        "skewness=stats.skew(data)\n",
        "kurtosis=stats.kurtosis(data)\n",
        "print(\"skewness:\",skewness)\n",
        "print(\"kurtosis:\",kurtosis)\n",
        "plt.hist(data, bins=30, density=True)\n",
        "plt.title('histogram of data')\n",
        "plt.show()"
      ],
      "metadata": {
        "id": "Gz6sbsuot9QG",
        "colab": {
          "base_uri": "https://localhost:8080/",
          "height": 487
        },
        "outputId": "7106df7f-6a83-4474-9fcc-391c94aaf8c2"
      },
      "execution_count": null,
      "outputs": [
        {
          "output_type": "stream",
          "name": "stdout",
          "text": [
            "skewness: -0.15356896645941845\n",
            "kurtosis: 0.21219155417941415\n"
          ]
        },
        {
          "output_type": "display_data",
          "data": {
            "text/plain": [
              "<Figure size 640x480 with 1 Axes>"
            ],
            "image/png": "[encoded data removed]"
          },
          "metadata": {}
        }
      ]
    },
    {
      "cell_type": "code",
      "source": [
        "#ques24 implement is person and spearman correlation for a dataset .?"
      ],
      "metadata": {
        "id": "-GAdF3cZy69E"
      },
      "execution_count": null,
      "outputs": []
    },
    {
      "cell_type": "code",
      "source": [
        "\n",
        "\n",
        "\n",
        "import numpy as np\n",
        "from scipy .stats import pearsonr, spearmanr\n",
        "\n",
        "#simple dataset\n",
        "x=np.array([1,2,3,4,5])\n",
        "y=np.array([6])"
      ],
      "metadata": {
        "id": "cRoq7isEzKoR"
      },
      "execution_count": null,
      "outputs": []
    },
    {
      "cell_type": "code",
      "source": [],
      "metadata": {
        "id": "HbBD3bcLztJy"
      },
      "execution_count": null,
      "outputs": []
    }
  ]
}