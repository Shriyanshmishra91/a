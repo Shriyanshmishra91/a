{
  "nbformat": 4,
  "nbformat_minor": 0,
  "metadata": {
    "colab": {
      "provenance": [],
      "authorship_tag": "ABX9TyO0U+y0VCu+Pn9u8ooiDNia",
      "include_colab_link": true
    },
    "kernelspec": {
      "name": "python3",
      "display_name": "Python 3"
    },
    "language_info": {
      "name": "python"
    }
  },
  "cells": [
    {
      "cell_type": "markdown",
      "metadata": {
        "id": "view-in-github",
        "colab_type": "text"
      },
      "source": [
        "<a href=\"https://colab.research.google.com/github/Shriyanshmishra91/a/blob/main/Untitled13.ipynb\" target=\"_parent\"><img src=\"https://colab.research.google.com/assets/colab-badge.svg\" alt=\"Open In Colab\"/></a>"
      ]
    },
    {
      "cell_type": "markdown",
      "source": [
        "Ques1 What is random  varible in probabilty theroy ?\n",
        "\n",
        "\n",
        "Ans A random varible whose is mathematical  representation of varible whose possiuble valves are determined by chance events  it is is a outcome iofa random.\n",
        "\n",
        "Qus2 What are types of random varibles ?\n",
        "\n",
        "Ans thre are two main types discrete random  varible like and continous   ranmdom  varibles can take onnly valve  wih a given intveral.\n",
        "\n",
        "Qus3 What is differnce between discrete and continous  distrbutions ?\n",
        "\n",
        "Ans  Discreate Distrubition  are used for random varibles that can be take on distinct are used for random  varible that can be  take avalve  with in given a inteval or range.\n",
        "\n",
        "\n",
        "Ques4 What are probality  distrbution functions(pdf)\n",
        "\n",
        "Ans A probability distrbution function  decribes the probillty of differnt valves or range  of valve of that a random varible can a take .\n",
        "\n",
        "Ques5 how do comulative distbution functions  cdf  differ  from problillty distrubtion. function?\n",
        "\n",
        "Ans  Acdf gives the probilalty that problem  and random varible take on valves  ,while  a pdf describes the probilatity of differnt valves .\n",
        "\n",
        "Qu6 What is a discrite uniform distrbution?\n",
        "\n",
        "Ans Adiscrite  unifrom distrubtions is  a probablity distrubition where every   possible outcome  suces or valve  with afixed  probility of sucess,\n",
        "\n",
        "\n",
        "Que7 Whatis binomimal distrubtion  and how it is uses in probability ?\n",
        "\n",
        "Ans  the binomial distrubtion and how it is useddistrbution in modeles the number of sucess ina fixed a number of independent beronoutlines tailes withaconstent  probability .\n",
        "\n",
        "Ques 8 What ara the key propties of bernoli distrubiton?\n",
        "\n",
        "Ans A bernoli distrbutions isadiscrete modles numbers of sucess in fixed number of indepndent  singal tirals with two possible outcomes suces witha fixed  probablity sucess.\n",
        "\n",
        "Ques9 What is possions distrubtion andwhre applied ?\n",
        "\n",
        "Ans The possions distrubtions modeles the number of events occuring inafixed  intveral of time space wher these events occur with aknown  constant mean rate.\n",
        "\n",
        "Ques10 What is continous unifrom distrubition isa probabilty  is aprobability distbution where every possible outcome with in agiven arange has eqal probablilty ofocuring.\n",
        "\n",
        "Ques11 Whatare the charctersatistics of  anormal  distbution.?\n",
        "\n",
        "Ans anormal isdistubtion is symmetic bell-shaped and chactrized byits a mean and stated devation .\n",
        "\n",
        "Ques12  what is standard  normal distbutions and why it isimportant?\n",
        "\n",
        "Ans the standard normal distrubtionofthe mean of  large  mean 0 and astandard devitation oe 1 it  isimpossible  comparing differnt normal distrubtions and facilating   satsistical analysis\n",
        "\n",
        "Ques13 What is the central limit throm (clt) and whyis it crictical  in statics?\n",
        "\n",
        "Ans  The clt states that the distubution of the mean of large  sample  of independent indetically distrubted  random varibles wiill b approximatelty normally distrtubed it is crictical for satistical\n",
        "\n",
        "\n",
        "Ques14 how does  hthe centaral limit threom realte the normal distrbution ?\n",
        "\n",
        "The clt explain why the normal distrubitons is commonly observed in natural phenomena and fundtamental  to many  stsical methods\n",
        "\n",
        "Ques15 what is the application Z satistics in hypothesis  testing ?\n",
        "\n",
        "Ans Z staistics are used to test hypothesioes about te mean  of apopulation when the population standard devation is known.\n",
        "\n",
        "Qus16  how do you caculate a  Zsocre andwhat does it isreprsent ?\n",
        "\n",
        "Ans A Zsocre is calucted as(x-u()\\ sigma whre xis athe valve standard deviation it is reprsents the number of standard devations away fromthe mean.\n",
        "\n",
        "Ques17\n",
        " what  is apoint sinficance ofcondifence interval  in staticals analysis ?\n",
        "\n",
        " Ans confidence interval  provide a measure of the reabiltiy ofan enstimate .indecating the range  with innwhich the true parameters is lkely to ile .\n",
        "\n",
        "\n",
        " Que18 What are point estimates anditeval estaatimeties ?\n",
        "\n",
        " Ans piont stimates are singal valve used  to estimate apopulation  prameters  while intveral  estimates indiucating the range  with in  which the paramters  is likely to lie .\n",
        "\n",
        " Ques19 What is the realtionship between a z-score and condience intveral ?\n",
        "\n",
        "Ans Z score are used in conculising confience trvals for means when te populations  standard devitations is known.\n",
        "\n",
        "Ques20  How Are z score used in compare diferent distrubitions?\n",
        "\n",
        "\n",
        "Ans Z scores  are used in concusting confidence intveral for means  whenpopulation standard deviation alowings  comparsions .\n",
        "\n",
        "\n",
        "Quse21 what are the assumptions for applying the central limit therom?\n",
        "\n",
        "Ans The clt assumes indpenedent and identically distributed random varibles with a finite mean  and  avarince.\n",
        "\n",
        "Ques22 what  isthe concpet of excpted vlave in aprobability distrbuion?\n",
        "\n",
        "Ans the expected valve is the  long - run  average valve  of arandom  varible with  a finite  mean  and varince .\n",
        "\n",
        "Ques 23 how does aprobabilitity  distribtution  realte  te excpted  va  outcome of arandom vrible?\n",
        "\n",
        "Ans aprobability distrubtion describe the probability of different outcomes and the expcted valve summary measures these outcomes.\n"
      ],
      "metadata": {
        "id": "MoX0NjLAg5Hg"
      }
    },
    {
      "cell_type": "code",
      "source": [],
      "metadata": {
        "id": "un2PDI5RE1Sn"
      },
      "execution_count": null,
      "outputs": []
    }
  ]
}