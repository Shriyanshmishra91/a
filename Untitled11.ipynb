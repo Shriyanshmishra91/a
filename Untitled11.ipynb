{
  "cells": [
    {
      "cell_type": "markdown",
      "metadata": {
        "id": "view-in-github",
        "colab_type": "text"
      },
      "source": [
        "<a href=\"https://colab.research.google.com/github/Shriyanshmishra91/a/blob/main/Untitled11.ipynb\" target=\"_parent\"><img src=\"https://colab.research.google.com/assets/colab-badge.svg\" alt=\"Open In Colab\"/></a>"
      ]
    },
    {
      "cell_type": "code",
      "execution_count": null,
      "metadata": {
        "id": "aB0MNX9d0lwD"
      },
      "outputs": [],
      "source": []
    },
    {
      "cell_type": "markdown",
      "metadata": {
        "id": "7mhra_1nT1IS"
      },
      "source": []
    },
    {
      "cell_type": "markdown",
      "metadata": {
        "id": "60SoVh7BC8kk"
      },
      "source": [
        "ques1\n",
        "what is arestful ApI?\n",
        "\n",
        "ANS Arestful api fllows the princpile of restusing standard http methods to preforms  operations on resource resprented in fromats  like josn or xml.\n",
        "\n",
        "\n",
        "Ques2\n",
        " Explain the concpet of API sepfication.?\n",
        "\n",
        " Ans An API  sepecation de fines how api shuld behave inculsing endpoints  request formats , meythods and authenction.examples inculde open ai (sawger)\n",
        "\n",
        " Ques3 What is flask and why is it pouplarc for buliding apis?\n",
        "\n",
        "\n",
        " ANS Flask is aligtweighjt python web farme work its apouplarv because its simple fexilble and ideal for quickly devolping restful APIS.\n",
        "\n",
        " Que4 WHAT is routing in flash\n",
        "\n",
        " ANS- Routing refers to mapping urls o funcion .flask uses @app.route () to dfine reoutes for handling https requests .\n",
        "\n",
        " Que5\n",
        " HoW do you crate asimple falsk application ?\n"
      ]
    },
    {
      "cell_type": "code",
      "execution_count": null,
      "metadata": {
        "colab": {
          "background_save": true,
          "base_uri": "https://localhost:8080/"
        },
        "id": "MF_Xn4ywDO4c",
        "outputId": "c4658ec2-586f-4ac8-ee52-b8711de27663"
      },
      "outputs": [
        {
          "name": "stdout",
          "output_type": "stream",
          "text": [
            " * Serving Flask app '__main__'\n",
            " * Debug mode: off\n"
          ]
        },
        {
          "name": "stderr",
          "output_type": "stream",
          "text": [
            "INFO:werkzeug:\u001b[31m\u001b[1mWARNING: This is a development server. Do not use it in a production deployment. Use a production WSGI server instead.\u001b[0m\n",
            " * Running on http://127.0.0.1:5000\n",
            "INFO:werkzeug:\u001b[33mPress CTRL+C to quit\u001b[0m\n"
          ]
        }
      ],
      "source": [
        "from flask import Flask\n",
        "\n",
        "app = Flask(__name__)\n",
        "\n",
        "@app.route('/')\n",
        "def hello_world():\n",
        "    return 'Hello World!!'\n",
        "\n",
        "if __name__==\"__main__\":\n",
        "    app.run()"
      ]
    },
    {
      "cell_type": "markdown",
      "metadata": {
        "id": "GK3owg_0H0Od"
      },
      "source": [
        "in Que6\n",
        "What are HTP methods used in restful APIS?\n",
        "\n",
        "ANs get :RETIRE DATA\n",
        "post : create data\n",
        "put : update data\n",
        "delte : delete data\n",
        "patch : partially update  data\n",
        "\n",
        "Ques7\n",
        "Whatisprupose of the @app.route() decartor\n",
        " in flask ?\n",
        "\n",
        " Ans lt blind  a function to sepfic url methods (S) makingit rsponed to client requets.\n",
        "\n",
        " Ques8\n",
        " WHAT isdifferntbetween and post https methods ?\n",
        "\n",
        " ANS Get  retrives data and apppend prametrs in url.\n",
        " .Post send data in dody and i sused crate or sumbit data.\n",
        "\n",
        " QUES9 HOW doyou handle errors in flask APIS?\n",
        "\n",
        " ANS using @app.errorhandler,coustomers eror message and htps stauts codes:\n",
        "\n",
        " QUES10HOW  do you connect flask asql  data base?\n",
        "\n",
        " ANS using labires like sql alchmy or flask -sqland configring thwe datbase url.\n",
        "\n",
        "\n",
        " ques11 what is the role of SQLLALchmey?\n",
        "\n",
        " ANS IT's an extensionsthat integrates SQLLALCHmey with FALsk ,making orm easier and more inttive.\n",
        "\n",
        " QuES12\n",
        " WHAT are flask blue printsandhow are  they useful?\n",
        "\n",
        " ANS\n",
        " blue prints let puropse  structreyourappinto resuable compentspomating modular. devolempent.\n",
        "\n",
        " ques13\n",
        "  What is prupose of flask's requests objects ?\n",
        "\n",
        " Ans  it provide acess  to incoming requests  data\n",
        "\n",
        "   Ques14 how do you crate va restful ApI endpoints using flask ?\n",
        "\n",
        "Ans\n",
        "\n",
        "\n",
        "\n",
        "\n",
        "   \n",
        "    \n"
      ]
    },
    {
      "cell_type": "code",
      "execution_count": 36,
      "metadata": {
        "id": "mPE_aCTIRcqy"
      },
      "outputs": [],
      "source": [
        "@app.route('/api/items/<int:id>',\n",
        "methods=['GET'])\n",
        "def get_item(id):\n",
        "  return{'id': id, 'name':'item' + str(id)}\n",
        "def get_item(id):\n",
        "  return{'id': id, 'name':'item' + str(id)}"
      ]
    },
    {
      "cell_type": "markdown",
      "metadata": {
        "id": "wpPXxzOKS77y"
      },
      "source": [
        "Ques15\n",
        "what is purpose  of flask's jsonify () functions?\n",
        "\n",
        "Ans\n",
        " it  convert pyhon dictionaries  to jsnon respones and sets  the corrects content type .\n",
        "\n",
        "\n",
        "\n",
        "\n",
        "\n",
        " QUES17   Explain flask 's url_for() function.?\n",
        "\n",
        "    Ans it gernates urls for routes  dynamically using function names.\n",
        "\n",
        "    Ques17\n",
        "\n",
        "    how do you flask handle static files (css , javascrpit ,etc )?\n",
        "\n",
        "    \n",
        "    Ans flask servers them from statics files folder examples:\n",
        "\n"
      ]
    },
    {
      "cell_type": "markdown",
      "source": [
        "Ques 18  what is an Api sepfication and how doese it helps in buldinga flask Api?\n",
        "\n",
        "Ans it defines the contract between the  frotenend  andbackenend ,enusring  constients . for give an  devlopment and eassydoucment eg .swagger."
      ],
      "metadata": {
        "id": "u8ZKq5VN3x0T"
      }
    },
    {
      "cell_type": "markdown",
      "source": [
        "Ques19 what  are https satus  codes and why are they imporntant in flak api?\n",
        "\n",
        "ANS  They indicate the result ofann http request.examples:\n",
        "\n",
        "200 ok (sucees)\n",
        "201 ok( created)\n",
        "400 bad request\n",
        "404 not found\n",
        "500 sever\n",
        "they help clients understand what happenend to their request.\n",
        "\n",
        "Que 20  how handel post requsted in flask?\n",
        "\n",
        "Ans @ app. route ('\\'sumbit', methods =[' post])\n",
        "def sumbit():\n",
        " dataa = request from in [' filed']\n",
        "  return josnify('recived'; data})\n",
        "\n",
        "\n",
        "  Qus21  how would secure a flask api?\n",
        "\n",
        "\n",
        "  ans To secure a flaskAPI , you can implement  various measure such as\n",
        "  Authenfication: use labiries like flask login or  flask -jwt -extened to authentice users.\n",
        "\n",
        "  Autharization: use role based acess contorl to restricts acess to ceratain  reources .\n",
        "\n",
        "  Qus22 what is signification of the role of flask - rsetuful objects.?\n",
        "\n",
        "\n",
        "  Ans Falsk RESTFUL is an extenstion taht provides a simple request  RESTFUL API IN FLask .it allowsyoub create to you define resources and routees using a declarctive syntax ,making it maintain complex apis\n",
        "\n",
        "\n",
        "  Ques23 what is the role of flask 's object?\n",
        "\n",
        "  ANS\n",
        "   flask 's session object is used to store data  that is sepfic to user session itisa dictionary -like object that is stored on the severside and is accsosted withw user a authemcutation information or shopping cart contents."
      ],
      "metadata": {
        "id": "xaSiCQk7jbr2"
      }
    },
    {
      "cell_type": "code",
      "source": [
        "#partical question"
      ],
      "metadata": {
        "id": "lpCJhbemAB_m"
      },
      "execution_count": null,
      "outputs": []
    },
    {
      "cell_type": "code",
      "source": [
        "#Ques1 how do you create a basic flask  application?"
      ],
      "metadata": {
        "id": "dyZCG4ONAMsC"
      },
      "execution_count": null,
      "outputs": []
    },
    {
      "cell_type": "code",
      "source": [
        "from flask import Flask\n",
        "app=Flask(__name__)\n",
        "@app.route('/')\n",
        "def home():\n",
        "  return'hello, flask!'\n"
      ],
      "metadata": {
        "id": "cb_W_2L3AdFr"
      },
      "execution_count": null,
      "outputs": []
    },
    {
      "cell_type": "code",
      "source": [
        "#Ques2 how do you serve static files like images or css in flask?"
      ],
      "metadata": {
        "id": "kDgDG4bzBgny"
      },
      "execution_count": null,
      "outputs": []
    },
    {
      "source": [
        "# I understand. I'm ready to receive the code with syntax errors and will provide the corrected version."
      ],
      "cell_type": "code",
      "metadata": {
        "id": "groiZlKKGi0K"
      },
      "execution_count": null,
      "outputs": []
    },
    {
      "source": [
        "from flask import Flask, render_template_string, url_for\n",
        "\n",
        "app = Flask(__name__)\n",
        "\n",
        "# This is a basic HTML template string that will use a static CSS file and an image\n",
        "HTML_TEMPLATE = \"\"\"\n",
        "<!doctype html>\n",
        "<html>\n",
        "<head>\n",
        "    <title>Static Files Example</title>\n",
        "    <!-- Link to a static CSS file -->\n",
        "    <link rel=\"stylesheet\" href=\"{{ url_for('static', filename='css/style.css') }}\">\n",
        "</head>\n",
        "<body>\n",
        "    <h1>Serving Static Files</h1>\n",
        "    <p>This page is styled using a static CSS file.</p>\n",
        "    <!-- Display a static image -->\n",
        "    <img src=\"{{ url_for('static', filename='images/logo.png') }}\" alt=\"Example Image\">\n",
        "</body>\n",
        "</html>\n",
        "\"\"\"\n",
        "\n",
        "@app.route('/')\n",
        "def index():\n",
        "    # Render the HTML template\n",
        "    return render_template_string(HTML_TEMPLATE)\n",
        "\n",
        "if __name__ == '__main__':\n",
        "    # Make sure to create the 'static' directory and its subdirectories\n",
        "    # static/css/style.css\n",
        "    # static/images/logo.png\n",
        "    # before running this application.\n",
        "    print(\"Make sure you have a 'static' directory with 'css/style.css' and 'images/logo.png' inside.\")\n",
        "    print(\"Navigate to http://127.0.0.1:5000/\")\n",
        "    # In a real application, you would use app.run(debug=True) during development\n",
        "    # For demonstration purposes, we'll keep it simple.\n",
        "    app.run()"
      ],
      "cell_type": "code",
      "metadata": {
        "colab": {
          "base_uri": "https://localhost:8080/"
        },
        "id": "s8zYxDzNG1Xx",
        "outputId": "420f3de4-5b6e-43a9-cccc-06927c56882d"
      },
      "execution_count": null,
      "outputs": [
        {
          "output_type": "stream",
          "name": "stdout",
          "text": [
            "Make sure you have a 'static' directory with 'css/style.css' and 'images/logo.png' inside.\n",
            "Navigate to http://127.0.0.1:5000/\n",
            " * Serving Flask app '__main__'\n",
            " * Debug mode: off\n"
          ]
        },
        {
          "output_type": "stream",
          "name": "stderr",
          "text": [
            "INFO:werkzeug:\u001b[31m\u001b[1mWARNING: This is a development server. Do not use it in a production deployment. Use a production WSGI server instead.\u001b[0m\n",
            " * Running on http://127.0.0.1:5000\n",
            "INFO:werkzeug:\u001b[33mPress CTRL+C to quit\u001b[0m\n"
          ]
        }
      ]
    },
    {
      "cell_type": "code",
      "source": [
        "#que3  howc do yo difine differnts routes with differnt http methods in flask ?"
      ],
      "metadata": {
        "id": "u6rLocWAGTNy"
      },
      "execution_count": null,
      "outputs": []
    },
    {
      "source": [
        "from flask import Flask, request # Import request here\n",
        "\n",
        "app = Flask(__name__) # Ensure app is defined\n",
        "\n",
        "# Assuming app is defined from the previous cell\n",
        "\n",
        "@app.route('/submit', methods=['GET', 'POST']) # Corrected keyword and method list format\n",
        "def submit(): # Corrected function name\n",
        "  if request.method == 'POST': # Use request.method and compare with uppercase 'POST'\n",
        "    return 'form submitted'\n",
        "  return 'form page' # Removed extra return statement"
      ],
      "cell_type": "code",
      "metadata": {
        "id": "zzfcgO_0IeDi"
      },
      "execution_count": null,
      "outputs": []
    },
    {
      "source": [
        "#Ques4 how do you render html template in flask ?\n",
        "\n",
        "# %%\n",
        "from flask import Flask, render_template\n",
        "\n",
        "app = Flask(__name__)\n",
        "\n",
        "@app.route('/template')\n",
        "def show_template():\n",
        "  # Assuming you have a 'templates' folder in the same directory as your script\n",
        "  # And inside 'templates', you have a file named 'index.html'\n",
        "  return render_template('index.html')\n",
        "\n",
        "# You would typically run this application like the previous examples:\n",
        "# if __name__ == '__main__':\n",
        "#     app.run(debug=True)"
      ],
      "cell_type": "code",
      "metadata": {
        "id": "1mXa9PtoJIrZ"
      },
      "execution_count": null,
      "outputs": []
    },
    {
      "cell_type": "code",
      "source": [
        "# Ques 5 how can you gernate urls forv routes in flask  using url _forl ()?"
      ],
      "metadata": {
        "id": "PsoPI7qnJl1y"
      },
      "execution_count": null,
      "outputs": []
    },
    {
      "source": [
        "from flask import Flask, url_for\n",
        "\n",
        "app = Flask(__name__)\n",
        "\n",
        "# Configure the server name to allow url_for to work outside a request context\n",
        "app.config['SERVER_NAME'] = 'localhost:5000'\n",
        "\n",
        "@app.route('/')\n",
        "def home():\n",
        "  return 'hello, flask!'\n",
        "\n",
        "# Manually push an application context\n",
        "with app.app_context():\n",
        "    # Now url_for can be used\n",
        "    home_url = url_for('home')\n",
        "    print(f\"Generated URL: {home_url}\")"
      ],
      "cell_type": "code",
      "metadata": {
        "id": "JCwLc56eKZf7",
        "outputId": "6757a608-5da3-4871-d84c-295fd2770e0e",
        "colab": {
          "base_uri": "https://localhost:8080/"
        }
      },
      "execution_count": 2,
      "outputs": [
        {
          "output_type": "stream",
          "name": "stdout",
          "text": [
            "Generated URL: http://localhost:5000/\n"
          ]
        }
      ]
    },
    {
      "cell_type": "code",
      "source": [
        "  #Ques6 how do you handle fromin flask ?"
      ],
      "metadata": {
        "id": "AqOEk7S5KHeh"
      },
      "execution_count": 1,
      "outputs": []
    },
    {
      "source": [
        "from flask import Flask, request, render_template\n",
        "\n",
        "app = Flask(__name__)\n",
        "\n",
        "@app.route('/form', methods=['GET', 'POST'])\n",
        "def handle_form():\n",
        "    if request.method == 'POST':\n",
        "        # Get data from the submitted form\n",
        "        name = request.form.get('name')\n",
        "        email = request.form.get('email')\n",
        "\n",
        "        # Process the data (e.g., save to a database, print, etc.)\n",
        "        print(f\"Received form data: Name - {name}, Email - {email}\")\n",
        "\n",
        "        # Redirect or render a success page\n",
        "        return 'Form submitted successfully!'\n",
        "\n",
        "    # For GET request, render the form\n",
        "    # You'll need an HTML file named 'form.html' in a 'templates' folder\n",
        "    return render_template('form.html')\n",
        "\n",
        "# Example 'templates/form.html' content:\n",
        "# <form method=\"POST\">\n",
        "#     <label for=\"name\">Name:</label><br>\n",
        "#     <input type=\"text\" id=\"name\" name=\"name\"><br>\n",
        "#     <label for=\"email\">Email:</label><br>\n",
        "#     <input type=\"email\" id=\"email\" name=\"email\"><br><br>\n",
        "#     <input type=\"submit\" value=\"Submit\">\n",
        "# </form>\n",
        "\n",
        "if __name__ == '__main__':\n",
        "    # Ensure you have a 'templates' directory with 'form.html'\n",
        "    app.run(debug=True)"
      ],
      "cell_type": "code",
      "metadata": {
        "colab": {
          "base_uri": "https://localhost:8080/"
        },
        "id": "mlHl2M7dcS7H",
        "outputId": "3579d0d5-4dc4-42dc-ae90-9b8a71d85e69"
      },
      "execution_count": 3,
      "outputs": [
        {
          "output_type": "stream",
          "name": "stdout",
          "text": [
            " * Serving Flask app '__main__'\n",
            " * Debug mode: on\n"
          ]
        },
        {
          "output_type": "stream",
          "name": "stderr",
          "text": [
            "INFO:werkzeug:\u001b[31m\u001b[1mWARNING: This is a development server. Do not use it in a production deployment. Use a production WSGI server instead.\u001b[0m\n",
            " * Running on http://127.0.0.1:5000\n",
            "INFO:werkzeug:\u001b[33mPress CTRL+C to quit\u001b[0m\n",
            "INFO:werkzeug: * Restarting with stat\n"
          ]
        }
      ]
    },
    {
      "source": [
        "#Ques 7 how can you validate from in data in flask ?\n",
        "from flask_wtf import FlaskForm\n",
        "from wtforms import StringField, SubmitField\n",
        "from wtforms.validators import DataRequired, Email\n",
        "\n",
        "class MyForm(FlaskForm):\n",
        "    name = StringField('Name', validators=[DataRequired()])\n",
        "    email = StringField('Email Address', validators=[DataRequired(), Email()])\n",
        "    submit = SubmitField('Submit')"
      ],
      "cell_type": "code",
      "metadata": {
        "colab": {
          "base_uri": "https://localhost:8080/",
          "height": 401
        },
        "id": "uZvPT9RFdV0-",
        "outputId": "b1e3301a-f10a-433a-dc96-12e56077a07a"
      },
      "execution_count": 7,
      "outputs": [
        {
          "output_type": "error",
          "ename": "ModuleNotFoundError",
          "evalue": "No module named 'flask_wtf'",
          "traceback": [
            "\u001b[0;31m---------------------------------------------------------------------------\u001b[0m",
            "\u001b[0;31mModuleNotFoundError\u001b[0m                       Traceback (most recent call last)",
            "\u001b[0;32m<ipython-input-7-f4961246c324>\u001b[0m in \u001b[0;36m<cell line: 0>\u001b[0;34m()\u001b[0m\n\u001b[1;32m      1\u001b[0m \u001b[0;31m#Ques 7 how can you validate from in data in flask ?\u001b[0m\u001b[0;34m\u001b[0m\u001b[0;34m\u001b[0m\u001b[0m\n\u001b[0;32m----> 2\u001b[0;31m \u001b[0;32mfrom\u001b[0m \u001b[0mflask_wtf\u001b[0m \u001b[0;32mimport\u001b[0m \u001b[0mFlaskForm\u001b[0m\u001b[0;34m\u001b[0m\u001b[0;34m\u001b[0m\u001b[0m\n\u001b[0m\u001b[1;32m      3\u001b[0m \u001b[0;32mfrom\u001b[0m \u001b[0mwtforms\u001b[0m \u001b[0;32mimport\u001b[0m \u001b[0mStringField\u001b[0m\u001b[0;34m,\u001b[0m \u001b[0mSubmitField\u001b[0m\u001b[0;34m\u001b[0m\u001b[0;34m\u001b[0m\u001b[0m\n\u001b[1;32m      4\u001b[0m \u001b[0;32mfrom\u001b[0m \u001b[0mwtforms\u001b[0m\u001b[0;34m.\u001b[0m\u001b[0mvalidators\u001b[0m \u001b[0;32mimport\u001b[0m \u001b[0mDataRequired\u001b[0m\u001b[0;34m,\u001b[0m \u001b[0mEmail\u001b[0m\u001b[0;34m\u001b[0m\u001b[0;34m\u001b[0m\u001b[0m\n\u001b[1;32m      5\u001b[0m \u001b[0;34m\u001b[0m\u001b[0m\n",
            "\u001b[0;31mModuleNotFoundError\u001b[0m: No module named 'flask_wtf'",
            "",
            "\u001b[0;31m---------------------------------------------------------------------------\u001b[0;32m\nNOTE: If your import is failing due to a missing package, you can\nmanually install dependencies using either !pip or !apt.\n\nTo view examples of installing some common dependencies, click the\n\"Open Examples\" button below.\n\u001b[0;31m---------------------------------------------------------------------------\u001b[0m\n"
          ],
          "errorDetails": {
            "actions": [
              {
                "action": "open_url",
                "actionText": "Open Examples",
                "url": "/notebooks/snippets/importing_libraries.ipynb"
              }
            ]
          }
        }
      ]
    },
    {
      "cell_type": "code",
      "source": [
        "#Ques8  how do you message seession in flask ?"
      ],
      "metadata": {
        "id": "SsFg3W-rdnJW"
      },
      "execution_count": 10,
      "outputs": []
    },
    {
      "cell_type": "code",
      "source": [],
      "metadata": {
        "id": "AZBxU0umd2MX"
      },
      "execution_count": null,
      "outputs": []
    },
    {
      "source": [
        "from flask import Flask, session, redirect, url_for, request\n",
        "\n",
        "app = Flask(__name__)\n",
        "# Set a secret key for signing the session cookie\n",
        "app.config['SECRET_KEY'] = 'a_highly_secret_key_that_you_should_change'\n",
        "\n",
        "@app.route('/')\n",
        "def index():\n",
        "    if 'username' in session:\n",
        "        return f'Logged in as {session[\"username\"]}'\n",
        "    return 'You are not logged in'\n",
        "\n",
        "@app.route('/login', methods=['GET', 'POST'])\n",
        "def login():\n",
        "    if request.method == 'POST':\n",
        "        # Assuming you get username from a form\n",
        "        session['username'] = request.form['username']\n",
        "        return redirect(url_for('index'))\n",
        "    return '''\n",
        "        <form method=\"post\">\n",
        "            <p><input type=text name=username>\n",
        "            <p><input type=submit value=Login>\n",
        "        </form>\n",
        "    '''\n",
        "\n",
        "@app.route('/logout')\n",
        "def logout():\n",
        "    # remove the username from the session if it's there\n",
        "    session.pop('username', None)\n",
        "    return redirect(url_for('index'))\n",
        "\n",
        "if __name__ == '__main__':\n",
        "    # In a real application, you would run this:\n",
        "    # app.run(debug=True)\n",
        "    # For this example, we'll just show the code.\n",
        "    print(\"Run the Flask app and navigate to /login to see session messaging.\")"
      ],
      "cell_type": "code",
      "metadata": {
        "colab": {
          "base_uri": "https://localhost:8080/"
        },
        "id": "WvUZ1IaOeU7v",
        "outputId": "f6144292-52ab-4e50-9aa8-389dc5abf326"
      },
      "execution_count": 11,
      "outputs": [
        {
          "output_type": "stream",
          "name": "stdout",
          "text": [
            "Run the Flask app and navigate to /login to see session messaging.\n"
          ]
        }
      ]
    },
    {
      "cell_type": "code",
      "source": [
        "#Ques9  how do you redirect  to a differnt route in flask?"
      ],
      "metadata": {
        "id": "pNe4WS4peXX_"
      },
      "execution_count": 12,
      "outputs": []
    },
    {
      "source": [
        "from flask import Flask, redirect, url_for\n",
        "\n",
        "app = Flask(__name__)\n",
        "\n",
        "@app.route('/')\n",
        "def home():\n",
        "  return 'Hello, Flask!'\n",
        "\n",
        "@app.route('/go-home')\n",
        "def go_home():\n",
        "  # This route will redirect to the 'home' route\n",
        "  return redirect(url_for('home'))\n",
        "\n",
        "# You can run this Flask app to see the redirect in action\n",
        "# if __name__ == '__main__':\n",
        "#     app.run(debug=True)"
      ],
      "cell_type": "code",
      "metadata": {
        "id": "usSje7kwfQbm"
      },
      "execution_count": 17,
      "outputs": []
    },
    {
      "cell_type": "code",
      "source": [
        "#Ques10 how do you handle errors in flask(e.g.,404)?"
      ],
      "metadata": {
        "id": "oVY4ehwAfVDP"
      },
      "execution_count": 18,
      "outputs": []
    },
    {
      "cell_type": "code",
      "source": [
        "@app.errorhandler(404)\n",
        "def page_not_found(error):\n",
        "  return 'Page not found', 404"
      ],
      "metadata": {
        "id": "jxu9FKgVfqKf"
      },
      "execution_count": 19,
      "outputs": []
    },
    {
      "cell_type": "code",
      "source": [
        "#Ques11 how do you astructure aflask app using buleprint?"
      ],
      "metadata": {
        "id": "2mgiPKPdfxUW"
      },
      "execution_count": 20,
      "outputs": []
    },
    {
      "cell_type": "code",
      "source": [
        "from flask import Blueprint\n",
        "user_bp = Blueprint('user', __name__)\n",
        "@user_bp.route('/profile')\n",
        "def profile():\n",
        "  return 'User profile page'\n",
        "\n",
        "@user_bp.route('/profile')\n",
        "def profile():\n",
        "  return 'User profile page'"
      ],
      "metadata": {
        "id": "2A68uBSjgC52"
      },
      "execution_count": 21,
      "outputs": []
    },
    {
      "cell_type": "code",
      "source": [
        "#Que12 how do you definea custom jinja filter in flask?"
      ],
      "metadata": {
        "id": "BSPGX9ElgZqP"
      },
      "execution_count": 22,
      "outputs": []
    },
    {
      "cell_type": "code",
      "source": [
        "@app.template_filter('capitalize')\n",
        "def capitalize_filter(s):\n",
        "  return s.capitalize()"
      ],
      "metadata": {
        "id": "16jpIdUEgpy-"
      },
      "execution_count": 23,
      "outputs": []
    },
    {
      "cell_type": "code",
      "source": [
        "#Que13 how can you  redricet with qurey prametrs in flask?\n"
      ],
      "metadata": {
        "id": "3_RqA2tDg65H"
      },
      "execution_count": 24,
      "outputs": []
    },
    {
      "source": [
        "from flask import Flask, redirect, url_for\n",
        "\n",
        "# Assuming app is defined elsewhere, or define it here if this is a standalone example\n",
        "# app = Flask(__name__)\n",
        "\n",
        "# Assuming the 'home' route is defined elsewhere, or define it here\n",
        "# @app.route('/')\n",
        "# def home():\n",
        "#   return 'Hello, Flask!'\n",
        "\n",
        "\n",
        "# Define a new route that demonstrates redirecting with query parameters\n",
        "@app.route('/redirect_with_params')\n",
        "def redirect_with_params():\n",
        "  # This route will redirect to the 'home' route with a query parameter\n",
        "  return redirect(url_for('home', msg='hello'))\n",
        "\n",
        "# You would typically run this Flask app\n",
        "# if __name__ == '__main__':\n",
        "#     app.run(debug=True)"
      ],
      "cell_type": "code",
      "metadata": {
        "id": "vtOJ4cvMh2Am"
      },
      "execution_count": 28,
      "outputs": []
    },
    {
      "cell_type": "code",
      "source": [
        "#ques14 how do you  return json respones in flask?"
      ],
      "metadata": {
        "id": "tpUWY7BXh5ed"
      },
      "execution_count": 29,
      "outputs": []
    },
    {
      "source": [
        "from flask import Flask, jsonify\n",
        "\n",
        "# Assuming 'app' is defined elsewhere, or define it here if this is a standalone example\n",
        "# app = Flask(__name__)\n",
        "\n",
        "# Define a route that returns a JSON response\n",
        "@app.route('/json_example')\n",
        "def json_example():\n",
        "  # Create a Python dictionary\n",
        "  data = {\n",
        "      'message': 'Hello from Flask!',\n",
        "      'status': 'success',\n",
        "      'data': [1, 2, 3]\n",
        "  }\n",
        "  # Use jsonify to convert the dictionary to a JSON response\n",
        "  # jsonify also sets the Content-Type header to application/json\n",
        "  return jsonify(data)\n",
        "\n",
        "# You would typically run this Flask app\n",
        "# if __main__ == '__main__':\n",
        "#     app.run(debug=True)"
      ],
      "cell_type": "code",
      "metadata": {
        "id": "psWSWhmPintW"
      },
      "execution_count": 31,
      "outputs": []
    },
    {
      "cell_type": "code",
      "source": [
        "#Ques15 how do you ncaputrue url in pramters in flask?"
      ],
      "metadata": {
        "id": "UhNIw_gWhs82"
      },
      "execution_count": 32,
      "outputs": []
    },
    {
      "cell_type": "code",
      "source": [],
      "metadata": {
        "id": "VF7-MVQIi1PN"
      },
      "execution_count": null,
      "outputs": []
    },
    {
      "source": [
        "from flask import Flask\n",
        "\n",
        "# Assuming 'app' is defined elsewhere, or define it here if this is a standalone example\n",
        "# app = Flask(__name__)\n",
        "\n",
        "# Define a route with a dynamic part in the URL\n",
        "@app.route('/user/<username>')\n",
        "def show_user_profile(username):\n",
        "  # The dynamic part 'username' is passed as an argument to the function\n",
        "  return f'User: {username}'\n",
        "\n",
        "# You can capture different types of parameters by specifying their type\n",
        "@app.route('/post/<int:post_id>')\n",
        "def show_post(post_id):\n",
        "  # The dynamic part 'post_id' is captured as an integer\n",
        "  return f'Post ID: {post_id}'\n",
        "\n",
        "# You would typically run this Flask app\n",
        "# if __main__ == '__main__':\n",
        "#     app.run(debug=True)"
      ],
      "cell_type": "code",
      "metadata": {
        "id": "gwQTFVBBjIRG"
      },
      "execution_count": 33,
      "outputs": []
    }
  ],
  "metadata": {
    "colab": {
      "provenance": [],
      "authorship_tag": "ABX9TyOPx9iHEDVCi2DXzyBMt+t7",
      "include_colab_link": true
    },
    "kernelspec": {
      "display_name": "Python 3",
      "name": "python3"
    },
    "language_info": {
      "name": "python"
    }
  },
  "nbformat": 4,
  "nbformat_minor": 0
}